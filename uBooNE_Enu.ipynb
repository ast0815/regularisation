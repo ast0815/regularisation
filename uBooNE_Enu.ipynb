{
 "cells": [
  {
   "cell_type": "code",
   "execution_count": 1,
   "metadata": {},
   "outputs": [],
   "source": [
    "import numpy as np\n",
    "import pandas as pd\n",
    "from matplotlib import pyplot as plt\n",
    "from scipy.linalg import cholesky, sqrtm\n",
    "from scipy.optimize import minimize\n",
    "from scipy.stats import norm, rv_histogram\n",
    "\n",
    "import utils"
   ]
  },
  {
   "cell_type": "code",
   "execution_count": 2,
   "metadata": {},
   "outputs": [
    {
     "name": "stdout",
     "output_type": "stream",
     "text": [
      "    bin_min  bin_max  bin_mean    xsec  xsec_uncert\n",
      "i                                                  \n",
      "1     0.200    0.540    0.3818  0.3367      0.04369\n",
      "2     0.540    0.705    0.6220  0.6751      0.06562\n",
      "3     0.705    0.805    0.7546  0.9309      0.08193\n",
      "4     0.805    0.920    0.8615  1.0920      0.08613\n",
      "5     0.920    1.050    0.9833  1.1920      0.09354\n",
      "6     1.050    1.200    1.1220  1.2340      0.11990\n",
      "7     1.200    1.375    1.2820  1.2920      0.13940\n",
      "8     1.375    1.570    1.4630  1.4010      0.18770\n",
      "9     1.570    2.050    1.7350  1.5710      0.26410\n",
      "10    2.050    4.000    2.6190  1.9770      0.37800\n",
      "[0.2   0.54  0.705 0.805 0.92  1.05  1.2   1.375 1.57  2.05  4.   ]\n"
     ]
    }
   ],
   "source": [
    "# Unfolded results from https://arxiv.org/abs/2110.14023\n",
    "df = pd.read_csv(\n",
    "    \"uBooNE/microboone_cc_inclusive_cross_section.txt\",\n",
    "    sep=\"\\t\",\n",
    "    skiprows=7,\n",
    "    nrows=10,\n",
    "    names=[\"i\", \"bin_min\", \"bin_max\", \"bin_mean\", \"xsec\", \"xsec_uncert\"],\n",
    "    index_col=\"i\",\n",
    ")\n",
    "print(df)\n",
    "bins = np.append(df[\"bin_min\"].to_numpy(), df[\"bin_max\"].iloc[-1])\n",
    "print(bins)\n",
    "pre_regularised = df[\"xsec\"].to_numpy()\n",
    "pre_regularised_h = (pre_regularised, bins)"
   ]
  },
  {
   "cell_type": "code",
   "execution_count": 3,
   "metadata": {},
   "outputs": [
    {
     "name": "stdout",
     "output_type": "stream",
     "text": [
      "[[ 7.7193e-01  1.6067e-01  2.5056e-03 -2.3549e-02 -1.3922e-02  5.3099e-03\n",
      "   1.3827e-02  1.3296e-02  1.8587e-03 -1.3563e-02]\n",
      " [ 5.1029e-01  4.6149e-01  1.4382e-01  4.8657e-02  3.5189e-03 -1.2790e-02\n",
      "  -1.7596e-02 -1.1689e-02  2.0003e-03  1.7811e-02]\n",
      " [-1.2146e-03  4.8313e-01  3.0137e-01  2.0307e-01  6.7876e-02 -1.5387e-02\n",
      "  -3.1367e-02 -1.2405e-02  2.0622e-02  1.2695e-02]\n",
      " [-1.7011e-01  2.7494e-01  2.9489e-01  2.8457e-01  1.7260e-01  7.1278e-02\n",
      "   2.3583e-02  8.9150e-03  8.9130e-03 -1.0599e-02]\n",
      " [-1.7679e-02  2.0195e-02  1.3275e-01  2.4059e-01  2.7945e-01  2.3071e-01\n",
      "   1.3165e-01  3.7466e-02 -3.1675e-02 -1.6003e-02]\n",
      " [ 2.3539e-01 -2.0050e-01 -4.3079e-02  1.4648e-01  3.1638e-01  3.4103e-01\n",
      "   2.2967e-01  8.3719e-02 -2.9863e-02 -4.6007e-03]\n",
      " [ 3.1528e-01 -3.0813e-01 -9.6519e-02  9.7406e-02  2.6085e-01  3.1883e-01\n",
      "   2.6662e-01  1.4968e-01  6.0373e-02  2.0519e-02]\n",
      " [ 3.5910e-02 -1.9540e-01 -1.6254e-02  8.9789e-02  1.4139e-01  1.9417e-01\n",
      "   2.3585e-01  2.0440e-01  2.0473e-01  8.0439e-02]\n",
      " [-5.7337e-01  1.6898e-01  1.1104e-01  6.8466e-02  1.7723e-02  6.5351e-02\n",
      "   1.7545e-01  2.1619e-01  3.2397e-01  1.9194e-01]\n",
      " [-1.3322e+00  6.7134e-01  2.0346e-01  1.2604e-02 -5.8662e-02  1.5727e-02\n",
      "   1.5674e-01  2.1775e-01  4.1066e-01  3.5801e-01]]\n"
     ]
    }
   ],
   "source": [
    "# Regularisation matrix\n",
    "pre_A = np.loadtxt(\n",
    "    \"uBooNE/microboone_cc_inclusive_addtl_smr_mat.txt\",\n",
    "    skiprows=6,\n",
    "    max_rows=10,\n",
    ")\n",
    "print(pre_A)\n",
    "pre_A_inv = np.linalg.inv(pre_A)\n",
    "unfolded = pre_A_inv @ pre_regularised\n",
    "unfolded_h = (unfolded, bins)"
   ]
  },
  {
   "cell_type": "code",
   "execution_count": 4,
   "metadata": {},
   "outputs": [
    {
     "data": {
      "text/plain": [
       "<matplotlib.patches.StepPatch at 0x7f7f6610b4c0>"
      ]
     },
     "execution_count": 4,
     "metadata": {},
     "output_type": "execute_result"
    },
    {
     "data": {
      "image/png": "[encoded data removed]",
      "text/plain": [
       "<Figure size 432x288 with 1 Axes>"
      ]
     },
     "metadata": {
      "needs_background": "light"
     },
     "output_type": "display_data"
    }
   ],
   "source": [
    "plt.stairs(*unfolded_h)\n",
    "plt.stairs(*pre_regularised_h)\n",
    "# plt.stairs(nominal, bins, linestyle=\"dashed\")"
   ]
  },
  {
   "cell_type": "code",
   "execution_count": 5,
   "metadata": {},
   "outputs": [],
   "source": [
    "# Covariance\n",
    "cov_pre_regularised = np.loadtxt(\n",
    "    \"uBooNE/microboone_cc_inclusive_cov_mat.txt\",\n",
    "    skiprows=6,\n",
    "    max_rows=10,\n",
    ")\n",
    "cov_pre_regularised_inv = np.linalg.inv(cov_pre_regularised)\n",
    "cor_pre_regularised = cov_pre_regularised / (\n",
    "    np.sqrt(np.diag(cov_pre_regularised))[:, None]\n",
    "    * np.sqrt(np.diag(cov_pre_regularised))[None, :]\n",
    ")\n",
    "\n",
    "cov_unfolded = pre_A_inv @ cov_pre_regularised @ pre_A_inv.T\n",
    "cov_unfolded_inv = np.linalg.inv(cov_unfolded)\n",
    "cor_unfolded = cov_unfolded / (\n",
    "    np.sqrt(np.diag(cov_unfolded))[:, None] * np.sqrt(np.diag(cov_unfolded))[None, :]\n",
    ")"
   ]
  },
  {
   "cell_type": "code",
   "execution_count": 6,
   "metadata": {},
   "outputs": [
    {
     "data": {
      "text/plain": [
       "(2.0111501326479795,\n",
       " 1.0000000000000002,\n",
       " -0.8431098799129668,\n",
       " -2.535376571185199,\n",
       " 0.3779947089576784,\n",
       " 1.0000000000000002,\n",
       " -0.17362295284575865,\n",
       " -0.0028676)"
      ]
     },
     "execution_count": 6,
     "metadata": {},
     "output_type": "execute_result"
    }
   ],
   "source": [
    "(\n",
    "    np.sqrt(np.max(np.diag(cov_unfolded))),\n",
    "    np.max(cor_unfolded),\n",
    "    np.min(cor_unfolded),\n",
    "    np.min(cov_unfolded),\n",
    "    np.sqrt(np.max(np.diag(cov_pre_regularised))),\n",
    "    np.max(cor_pre_regularised),\n",
    "    np.min(cor_pre_regularised),\n",
    "    np.min(cov_pre_regularised),\n",
    ")"
   ]
  },
  {
   "cell_type": "code",
   "execution_count": 7,
   "metadata": {},
   "outputs": [
    {
     "data": {
      "text/plain": [
       "<matplotlib.colorbar.Colorbar at 0x7f7f6601aa90>"
      ]
     },
     "execution_count": 7,
     "metadata": {},
     "output_type": "execute_result"
    },
    {
     "data": {
      "image/png": "[encoded data removed]",
      "text/plain": [
       "<Figure size 288x288 with 2 Axes>"
      ]
     },
     "metadata": {
      "needs_background": "light"
     },
     "output_type": "display_data"
    }
   ],
   "source": [
    "plt.matshow(cor_unfolded, cmap=\"coolwarm\", vmin=-1, vmax=1)\n",
    "plt.colorbar()"
   ]
  },
  {
   "cell_type": "code",
   "execution_count": 8,
   "metadata": {},
   "outputs": [
    {
     "data": {
      "text/plain": [
       "<matplotlib.colorbar.Colorbar at 0x7f7fbc7b6040>"
      ]
     },
     "execution_count": 8,
     "metadata": {},
     "output_type": "execute_result"
    },
    {
     "data": {
      "image/png": "[encoded data removed]",
      "text/plain": [
       "<Figure size 288x288 with 2 Axes>"
      ]
     },
     "metadata": {
      "needs_background": "light"
     },
     "output_type": "display_data"
    }
   ],
   "source": [
    "plt.matshow(cor_pre_regularised, cmap=\"coolwarm\", vmin=-1, vmax=1)\n",
    "plt.colorbar()"
   ]
  },
  {
   "cell_type": "code",
   "execution_count": 9,
   "metadata": {},
   "outputs": [
    {
     "data": {
      "text/plain": [
       "<matplotlib.colorbar.Colorbar at 0x7f7f65e6e6a0>"
      ]
     },
     "execution_count": 9,
     "metadata": {},
     "output_type": "execute_result"
    },
    {
     "data": {
      "image/png": "[encoded data removed]",
      "text/plain": [
       "<Figure size 288x288 with 2 Axes>"
      ]
     },
     "metadata": {
      "needs_background": "light"
     },
     "output_type": "display_data"
    }
   ],
   "source": [
    "mv = np.max(np.abs(pre_A))\n",
    "plt.matshow(pre_A, cmap=\"coolwarm\", vmin=-mv, vmax=mv)\n",
    "plt.colorbar()"
   ]
  },
  {
   "cell_type": "code",
   "execution_count": 10,
   "metadata": {},
   "outputs": [
    {
     "data": {
      "text/plain": [
       "<matplotlib.colorbar.Colorbar at 0x7f7f65d778b0>"
      ]
     },
     "execution_count": 10,
     "metadata": {},
     "output_type": "execute_result"
    },
    {
     "data": {
      "image/png": "[encoded data removed]",
      "text/plain": [
       "<Figure size 288x288 with 2 Axes>"
      ]
     },
     "metadata": {
      "needs_background": "light"
     },
     "output_type": "display_data"
    }
   ],
   "source": [
    "# Regularisation\n",
    "C = utils.Q2(unfolded)\n",
    "plt.matshow(C)\n",
    "plt.colorbar()"
   ]
  },
  {
   "cell_type": "code",
   "execution_count": 11,
   "metadata": {},
   "outputs": [
    {
     "name": "stdout",
     "output_type": "stream",
     "text": [
      "3.914692566025689 0.08516205999999982 45.9675654396535\n"
     ]
    }
   ],
   "source": [
    "# Regularised result\n",
    "#\n",
    "# m' = A m\n",
    "# A = (cov^{-1} + C)^-1 cov^{-1}\n",
    "\n",
    "diff = unfolded_h[0] - pre_regularised_h[0]\n",
    "chi2 = diff.T @ cov_unfolded_inv @ diff\n",
    "tau_inv = pre_regularised_h[0].T @ C @ pre_regularised_h[0]\n",
    "tau_max = chi2 / tau_inv\n",
    "print(chi2, tau_inv, tau_max)\n",
    "\n",
    "tau_list = [0.0] + list(np.logspace(-1, 1, 9))\n",
    "A_list = [\n",
    "    np.linalg.inv(cov_unfolded_inv + tau * C) @ cov_unfolded_inv for tau in tau_list\n",
    "]\n",
    "regularised_list = [A @ unfolded_h[0] for A in A_list]"
   ]
  },
  {
   "cell_type": "code",
   "execution_count": 12,
   "metadata": {},
   "outputs": [
    {
     "data": {
      "text/plain": [
       "<matplotlib.colorbar.Colorbar at 0x7f7f65c83730>"
      ]
     },
     "execution_count": 12,
     "metadata": {},
     "output_type": "execute_result"
    },
    {
     "data": {
      "image/png": "[encoded data removed]",
      "text/plain": [
       "<Figure size 288x288 with 2 Axes>"
      ]
     },
     "metadata": {
      "needs_background": "light"
     },
     "output_type": "display_data"
    }
   ],
   "source": [
    "plt.matshow(A_list[-1], cmap=\"coolwarm\", vmin=-np.max(A_list[-1]))\n",
    "plt.colorbar()"
   ]
  },
  {
   "cell_type": "code",
   "execution_count": 13,
   "metadata": {},
   "outputs": [
    {
     "data": {
      "text/plain": [
       "<matplotlib.legend.Legend at 0x7f7f65fecc10>"
      ]
     },
     "execution_count": 13,
     "metadata": {},
     "output_type": "execute_result"
    },
    {
     "data": {
      "image/png": "[encoded data removed]",
      "text/plain": [
       "<Figure size 432x288 with 1 Axes>"
      ]
     },
     "metadata": {
      "needs_background": "light"
     },
     "output_type": "display_data"
    }
   ],
   "source": [
    "for x, tau in zip(regularised_list, tau_list):\n",
    "    plt.stairs(x, bins, label=rf\"$\\tau = {tau:3.1f}$\")\n",
    "plt.legend(ncol=2)"
   ]
  },
  {
   "cell_type": "code",
   "execution_count": 14,
   "metadata": {},
   "outputs": [],
   "source": [
    "# Alt metrics\n",
    "# Determinant of covariance/correlation matrix as measure of overall correlation?\n",
    "cov_list = [A @ cov_unfolded @ A.T for A in A_list]\n",
    "cor_list = [\n",
    "    np.diag(np.diag(cov) ** (-0.5)) @ cov @ np.diag(np.diag(cov) ** (-0.5))\n",
    "    for cov in cov_list\n",
    "]\n",
    "cov_det_list = [np.linalg.det(cov) for cov in cov_list]\n",
    "cor_det_list = [np.linalg.det(cor) for cor in cor_list]"
   ]
  },
  {
   "cell_type": "code",
   "execution_count": 15,
   "metadata": {},
   "outputs": [
    {
     "data": {
      "text/plain": [
       "<matplotlib.colorbar.Colorbar at 0x7f7f65a432b0>"
      ]
     },
     "execution_count": 15,
     "metadata": {},
     "output_type": "execute_result"
    },
    {
     "data": {
      "image/png": "[encoded data removed]",
      "text/plain": [
       "<Figure size 288x288 with 2 Axes>"
      ]
     },
     "metadata": {
      "needs_background": "light"
     },
     "output_type": "display_data"
    }
   ],
   "source": [
    "plt.matshow(cor_list[-1], cmap=\"coolwarm\", vmin=-1, vmax=1)\n",
    "plt.colorbar()"
   ]
  },
  {
   "cell_type": "code",
   "execution_count": 16,
   "metadata": {},
   "outputs": [
    {
     "name": "stdout",
     "output_type": "stream",
     "text": [
      "9.725351812273285\n",
      "8.224115080784287\n"
     ]
    }
   ],
   "source": [
    "# Alt metrics\n",
    "# Wasserstein distance in uncorrelated standard normal space\n",
    "# The Fréchet distance between multivariate normal distributions\n",
    "# https://doi.org/10.1016/0047-259X(82)90077-X\n",
    "dist = []\n",
    "diag_dist = []\n",
    "\n",
    "\n",
    "def wasserstein(x, cov, base_x=unfolded_h[0], base_cov=cov_unfolded):\n",
    "    U = cholesky(np.linalg.inv(base_cov))\n",
    "    m = U @ base_x\n",
    "    diff = m - U @ x\n",
    "    S = U @ cov @ U.T\n",
    "    d = diff.T @ diff + cov.shape[0] + np.trace(S - 2 * sqrtm(S))\n",
    "    return abs(d)  # Catch some numerical issues\n",
    "\n",
    "print(wasserstein(pre_regularised, cov_pre_regularised))\n",
    "print(wasserstein(pre_regularised, np.diag(np.diag(cov_pre_regularised))))\n",
    "\n",
    "for x, cov in zip(regularised_list, cov_list):\n",
    "    # Distance between original and regularised\n",
    "    dist.append(wasserstein(x, cov))\n",
    "    # Distance between original and plot\n",
    "    diag_dist.append(wasserstein(x, np.diag(np.diag(cov))))"
   ]
  },
  {
   "cell_type": "code",
   "execution_count": 17,
   "metadata": {},
   "outputs": [
    {
     "name": "stdout",
     "output_type": "stream",
     "text": [
      "3 0.31622776601683794 4.023409650227803 2.005843874838668\n"
     ]
    },
    {
     "data": {
      "image/png": "[encoded data removed]",
      "text/plain": [
       "<Figure size 432x288 with 1 Axes>"
      ]
     },
     "metadata": {
      "needs_background": "light"
     },
     "output_type": "display_data"
    }
   ],
   "source": [
    "plt.plot(dist, diag_dist)\n",
    "plt.xlabel(\"regularisation bias $D^2_W$\")\n",
    "plt.ylabel(\"plot bias $D^2_{W,plot}$\")\n",
    "i_W = 0\n",
    "best = np.inf\n",
    "for i, (x, y, tau) in enumerate(zip(dist, diag_dist, tau_list)):\n",
    "    plt.annotate(rf\"$\\tau = {tau:.1f}$\", (x, y))\n",
    "    if y < best:\n",
    "        best = y\n",
    "        i_W = i\n",
    "print(i_W, tau_list[i_W], best, np.sqrt(best))"
   ]
  },
  {
   "cell_type": "code",
   "execution_count": 18,
   "metadata": {},
   "outputs": [
    {
     "data": {
      "text/plain": [
       "<matplotlib.colorbar.Colorbar at 0x7f7f638f3430>"
      ]
     },
     "execution_count": 18,
     "metadata": {},
     "output_type": "execute_result"
    },
    {
     "data": {
      "image/png": "[encoded data removed]",
      "text/plain": [
       "<Figure size 288x288 with 2 Axes>"
      ]
     },
     "metadata": {
      "needs_background": "light"
     },
     "output_type": "display_data"
    }
   ],
   "source": [
    "plt.matshow(cor_list[i_W], cmap=\"coolwarm\", vmin=-1, vmax=1)\n",
    "plt.colorbar()"
   ]
  },
  {
   "cell_type": "code",
   "execution_count": 19,
   "metadata": {},
   "outputs": [
    {
     "data": {
      "image/png": "[encoded data removed]",
      "text/plain": [
       "<Figure size 432x288 with 1 Axes>"
      ]
     },
     "metadata": {
      "needs_background": "light"
     },
     "output_type": "display_data"
    }
   ],
   "source": [
    "plt.plot(dist, cor_det_list)\n",
    "plt.xlabel(\"bias\")\n",
    "plt.ylabel(r\"$|cor|$\")\n",
    "i_D = 0\n",
    "best = 0\n",
    "for i, (x, y, tau) in enumerate(zip(dist, cor_det_list, tau_list)):\n",
    "    plt.annotate(rf\"$\\tau = {tau:.1f}$\", (x, y))\n",
    "    if y > best:\n",
    "        best = y\n",
    "        i_D = i"
   ]
  },
  {
   "cell_type": "code",
   "execution_count": 20,
   "metadata": {},
   "outputs": [
    {
     "data": {
      "text/plain": [
       "(-0.1, 4.683281243534321)"
      ]
     },
     "execution_count": 20,
     "metadata": {},
     "output_type": "execute_result"
    },
    {
     "data": {
      "image/png": "[encoded data removed]",
      "text/plain": [
       "<Figure size 432x288 with 1 Axes>"
      ]
     },
     "metadata": {
      "needs_background": "light"
     },
     "output_type": "display_data"
    }
   ],
   "source": [
    "x = (bins[:-1] + bins[1:]) / 2\n",
    "xerr = (bins[1:] - bins[:-1]) / 2\n",
    "\n",
    "y = unfolded_h[0]\n",
    "yerr = np.sqrt(np.diag(cov_unfolded))\n",
    "plt.errorbar(\n",
    "    x,\n",
    "    y,\n",
    "    yerr=yerr,\n",
    "    xerr=xerr,\n",
    "    label=\"unregularised\",\n",
    "    linewidth=2,\n",
    "    linestyle=\"\",\n",
    "    capsize=4,\n",
    ")\n",
    "\n",
    "y = pre_regularised_h[0]\n",
    "yerr = np.sqrt(np.diag(cov_pre_regularised))\n",
    "plt.errorbar(\n",
    "    x,\n",
    "    y,\n",
    "    yerr=yerr,\n",
    "    xerr=xerr,\n",
    "    label=\"pre-regularised\",\n",
    "    linewidth=2,\n",
    "    linestyle=\"\",\n",
    "    capsize=4,\n",
    ")\n",
    "\n",
    "y = regularised_list[i_W]\n",
    "yerr = np.sqrt(np.diag(cov_list[i_W]))\n",
    "plt.errorbar(\n",
    "    x,\n",
    "    y,\n",
    "    yerr=yerr,\n",
    "    xerr=xerr,\n",
    "    label=\"post-hoc regularised\",\n",
    "    linewidth=2,\n",
    "    linestyle=\"\",\n",
    "    capsize=4,\n",
    ")\n",
    "\n",
    "plt.legend()\n",
    "plt.xlabel(r\"$E_\\nu$\")\n",
    "plt.ylabel(r\"$\\sigma(E_\\nu)$ / [$10^{-38}$cm$^2$ / nucleon]\")\n",
    "plt.ylim(bottom=-0.1)"
   ]
  },
  {
   "cell_type": "code",
   "execution_count": 21,
   "metadata": {},
   "outputs": [
    {
     "data": {
      "text/plain": [
       "(-0.1, 4.683281243534321)"
      ]
     },
     "execution_count": 21,
     "metadata": {},
     "output_type": "execute_result"
    },
    {
     "data": {
      "image/png": "[encoded data removed]",
      "text/plain": [
       "<Figure size 432x288 with 1 Axes>"
      ]
     },
     "metadata": {
      "needs_background": "light"
     },
     "output_type": "display_data"
    }
   ],
   "source": [
    "x = (bins[:-1] + bins[1:]) / 2\n",
    "xerr = (bins[1:] - bins[:-1]) / 2\n",
    "\n",
    "y_0 = unfolded_h[0]\n",
    "y_0err = np.sqrt(np.diag(cov_unfolded))\n",
    "y_reg = regularised_list[i_W]\n",
    "y_err_low = y_reg - (y_0 - y_0err)\n",
    "y_err_upp = (y_0 + y_0err) - y_reg\n",
    "\n",
    "\n",
    "plt.errorbar(\n",
    "    x,\n",
    "    y_0,\n",
    "    yerr=y_0err,\n",
    "    xerr=xerr,\n",
    "    label=\"unreg.\",\n",
    "    linewidth=2,\n",
    "    linestyle=\"\",\n",
    "    capsize=4,\n",
    ")\n",
    "\n",
    "plt.legend()\n",
    "plt.xlabel(r\"$E_\\nu$\")\n",
    "plt.ylabel(r\"$\\sigma(E_\\nu)$ / [$10^{-38}$cm$^2$ / nucleon]\")\n",
    "plt.ylim(bottom=-0.1)"
   ]
  },
  {
   "cell_type": "code",
   "execution_count": 22,
   "metadata": {},
   "outputs": [
    {
     "data": {
      "text/plain": [
       "(-0.1, 4.683281243534321)"
      ]
     },
     "execution_count": 22,
     "metadata": {},
     "output_type": "execute_result"
    },
    {
     "data": {
      "image/png": "[encoded data removed]",
      "text/plain": [
       "<Figure size 432x288 with 1 Axes>"
      ]
     },
     "metadata": {
      "needs_background": "light"
     },
     "output_type": "display_data"
    }
   ],
   "source": [
    "x = (bins[:-1] + bins[1:]) / 2\n",
    "xerr = (bins[1:] - bins[:-1]) / 2\n",
    "\n",
    "y_0 = unfolded_h[0]\n",
    "y_0err = np.sqrt(np.diag(cov_unfolded))\n",
    "y_reg = regularised_list[i_W]\n",
    "y_err_low = y_reg - (y_0 - y_0err)\n",
    "y_err_upp = (y_0 + y_0err) - y_reg\n",
    "\n",
    "\n",
    "plt.errorbar(\n",
    "    x,\n",
    "    y_reg,\n",
    "    yerr=(y_err_low, y_err_upp),\n",
    "    xerr=xerr,\n",
    "    label=\"mix\",\n",
    "    linewidth=2,\n",
    "    linestyle=\"\",\n",
    "    capsize=4,\n",
    ")\n",
    "\n",
    "plt.legend()\n",
    "plt.xlabel(r\"$E_\\nu$\")\n",
    "plt.ylabel(r\"$\\sigma(E_\\nu)$ / [$10^{-38}$cm$^2$ / nucleon]\")\n",
    "plt.ylim(bottom=-0.1)"
   ]
  },
  {
   "cell_type": "code",
   "execution_count": 23,
   "metadata": {},
   "outputs": [
    {
     "name": "stdout",
     "output_type": "stream",
     "text": [
      "0.0684403055919907 2.184057184570493\n"
     ]
    },
    {
     "data": {
      "text/plain": [
       "array([-0.12001027,  0.08830529,  0.05974088,  0.04315434,  0.01010331,\n",
       "        0.00569193,  0.01894245,  0.00616511, -0.01344084, -0.03021189])"
      ]
     },
     "execution_count": 23,
     "metadata": {},
     "output_type": "execute_result"
    },
    {
     "data": {
      "image/png": "[encoded data removed]",
      "text/plain": [
       "<Figure size 432x288 with 1 Axes>"
      ]
     },
     "metadata": {
      "needs_background": "light"
     },
     "output_type": "display_data"
    }
   ],
   "source": [
    "utils.model_ratio_plot(\n",
    "    pre_regularised,\n",
    "    regularised_list[i_W],\n",
    "    cov_list[i_W],\n",
    "    A_list[i_W],\n",
    "    bins=bins,\n",
    "    data_label=\"regularised data\",\n",
    ")\n",
    "# plt.xlabel(r\"$\\delta p_T$ / [GeV/c]\")\n",
    "# plt.ylabel(\n",
    "#    r\"$\\frac{\\mathrm{d}\\sigma}{\\mathrm{d}\\delta p_T}\\ /\\ \\frac{\\mathrm{d}\\sigma_\\mathrm{nominal}}{\\mathrm{d}\\delta p_T}$\"\n",
    "# )"
   ]
  },
  {
   "cell_type": "code",
   "execution_count": null,
   "metadata": {},
   "outputs": [],
   "source": []
  }
 ],
 "metadata": {
  "kernelspec": {
   "display_name": "Python 3 (ipykernel)",
   "language": "python",
   "name": "python3"
  },
  "language_info": {
   "codemirror_mode": {
    "name": "ipython",
    "version": 3
   },
   "file_extension": ".py",
   "mimetype": "text/x-python",
   "name": "python",
   "nbconvert_exporter": "python",
   "pygments_lexer": "ipython3",
   "version": "3.8.10"
  }
 },
 "nbformat": 4,
 "nbformat_minor": 4
}
