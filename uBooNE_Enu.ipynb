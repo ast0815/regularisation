{
 "cells": [
  {
   "cell_type": "code",
   "execution_count": 6,
   "metadata": {},
   "outputs": [],
   "source": [
    "import numpy as np\n",
    "import pandas as pd\n",
    "from matplotlib import pyplot as plt\n",
    "from scipy.linalg import cholesky, sqrtm\n",
    "from scipy.optimize import minimize\n",
    "from scipy.stats import norm, rv_histogram\n",
    "\n",
    "import utils"
   ]
  },
  {
   "cell_type": "code",
   "execution_count": 18,
   "metadata": {},
   "outputs": [
    {
     "name": "stdout",
     "output_type": "stream",
     "text": [
      "    bin_min  bin_max  bin_mean    xsec  xsec_uncert\n",
      "i                                                  \n",
      "1     0.200    0.540    0.3818  0.3367      0.04369\n",
      "2     0.540    0.705    0.6220  0.6751      0.06562\n",
      "3     0.705    0.805    0.7546  0.9309      0.08193\n",
      "4     0.805    0.920    0.8615  1.0920      0.08613\n",
      "5     0.920    1.050    0.9833  1.1920      0.09354\n",
      "6     1.050    1.200    1.1220  1.2340      0.11990\n",
      "7     1.200    1.375    1.2820  1.2920      0.13940\n",
      "8     1.375    1.570    1.4630  1.4010      0.18770\n",
      "9     1.570    2.050    1.7350  1.5710      0.26410\n",
      "10    2.050    4.000    2.6190  1.9770      0.37800\n",
      "[0.2   0.54  0.705 0.805 0.92  1.05  1.2   1.375 1.57  2.05  4.   ]\n"
     ]
    }
   ],
   "source": [
    "# Unfolded results from https://arxiv.org/abs/2110.14023\n",
    "df = pd.read_csv(\n",
    "    \"uBooNE/microboone_cc_inclusive_cross_section.txt\",\n",
    "    sep=\"\\t\",\n",
    "    skiprows=7,\n",
    "    nrows=10,\n",
    "    names=[\"i\", \"bin_min\", \"bin_max\", \"bin_mean\", \"xsec\", \"xsec_uncert\"],\n",
    "    index_col=\"i\",\n",
    ")\n",
    "print(df)\n",
    "bins = np.append(df[\"bin_min\"].to_numpy(), df[\"bin_max\"].iloc[-1])\n",
    "print(bins)\n",
    "pre_regularised = df[\"xsec\"].to_numpy()\n",
    "pre_regularised_h = (pre_regularised, bins)"
   ]
  },
  {
   "cell_type": "code",
   "execution_count": 26,
   "metadata": {},
   "outputs": [
    {
     "name": "stdout",
     "output_type": "stream",
     "text": [
      "[[ 7.7193e-01  1.6067e-01  2.5056e-03 -2.3549e-02 -1.3922e-02  5.3099e-03\n",
      "   1.3827e-02  1.3296e-02  1.8587e-03 -1.3563e-02]\n",
      " [ 5.1029e-01  4.6149e-01  1.4382e-01  4.8657e-02  3.5189e-03 -1.2790e-02\n",
      "  -1.7596e-02 -1.1689e-02  2.0003e-03  1.7811e-02]\n",
      " [-1.2146e-03  4.8313e-01  3.0137e-01  2.0307e-01  6.7876e-02 -1.5387e-02\n",
      "  -3.1367e-02 -1.2405e-02  2.0622e-02  1.2695e-02]\n",
      " [-1.7011e-01  2.7494e-01  2.9489e-01  2.8457e-01  1.7260e-01  7.1278e-02\n",
      "   2.3583e-02  8.9150e-03  8.9130e-03 -1.0599e-02]\n",
      " [-1.7679e-02  2.0195e-02  1.3275e-01  2.4059e-01  2.7945e-01  2.3071e-01\n",
      "   1.3165e-01  3.7466e-02 -3.1675e-02 -1.6003e-02]\n",
      " [ 2.3539e-01 -2.0050e-01 -4.3079e-02  1.4648e-01  3.1638e-01  3.4103e-01\n",
      "   2.2967e-01  8.3719e-02 -2.9863e-02 -4.6007e-03]\n",
      " [ 3.1528e-01 -3.0813e-01 -9.6519e-02  9.7406e-02  2.6085e-01  3.1883e-01\n",
      "   2.6662e-01  1.4968e-01  6.0373e-02  2.0519e-02]\n",
      " [ 3.5910e-02 -1.9540e-01 -1.6254e-02  8.9789e-02  1.4139e-01  1.9417e-01\n",
      "   2.3585e-01  2.0440e-01  2.0473e-01  8.0439e-02]\n",
      " [-5.7337e-01  1.6898e-01  1.1104e-01  6.8466e-02  1.7723e-02  6.5351e-02\n",
      "   1.7545e-01  2.1619e-01  3.2397e-01  1.9194e-01]\n",
      " [-1.3322e+00  6.7134e-01  2.0346e-01  1.2604e-02 -5.8662e-02  1.5727e-02\n",
      "   1.5674e-01  2.1775e-01  4.1066e-01  3.5801e-01]]\n"
     ]
    }
   ],
   "source": [
    "# Regularisation matrix\n",
    "pre_A = np.loadtxt(\n",
    "    \"uBooNE/microboone_cc_inclusive_addtl_smr_mat.txt\",\n",
    "    skiprows=6,\n",
    "    max_rows=10,\n",
    ")\n",
    "print(pre_A)\n",
    "pre_A_inv = np.linalg.inv(pre_A)\n",
    "unfolded = pre_A_inv @ pre_regularised\n",
    "unfolded_h = (unfolded, bins)"
   ]
  },
  {
   "cell_type": "code",
   "execution_count": 27,
   "metadata": {},
   "outputs": [
    {
     "data": {
      "text/plain": [
       "<matplotlib.patches.StepPatch at 0x7fbf47df8a30>"
      ]
     },
     "execution_count": 27,
     "metadata": {},
     "output_type": "execute_result"
    },
    {
     "data": {
      "image/png": "[encoded data removed]",
      "text/plain": [
       "<Figure size 432x288 with 1 Axes>"
      ]
     },
     "metadata": {
      "needs_background": "light"
     },
     "output_type": "display_data"
    }
   ],
   "source": [
    "plt.stairs(*unfolded_h)\n",
    "plt.stairs(*pre_regularised_h)\n",
    "#plt.stairs(nominal, bins, linestyle=\"dashed\")"
   ]
  },
  {
   "cell_type": "code",
   "execution_count": 32,
   "metadata": {},
   "outputs": [],
   "source": [
    "# Covariance\n",
    "cov_pre_regularised = np.loadtxt(\n",
    "    \"uBooNE/microboone_cc_inclusive_cov_mat.txt\",\n",
    "    skiprows=6,\n",
    "    max_rows=10,\n",
    ")\n",
    "cov_pre_regularised_inv = np.linalg.inv(cov_pre_regularised)\n",
    "cor_pre_regularised = cov_pre_regularised / (\n",
    "    np.sqrt(np.diag(cov_pre_regularised))[:, None]\n",
    "    * np.sqrt(np.diag(cov_pre_regularised))[None, :]\n",
    ")\n",
    "\n",
    "cov_unfolded = pre_A_inv @ cov_pre_regularised @ pre_A_inv.T\n",
    "cov_unfolded_inv = np.linalg.inv(cov_unfolded)\n",
    "cor_unfolded = cov_unfolded / (\n",
    "    np.sqrt(np.diag(cov_unfolded))[:, None]\n",
    "    * np.sqrt(np.diag(cov_unfolded))[None, :]\n",
    ")"
   ]
  },
  {
   "cell_type": "code",
   "execution_count": 33,
   "metadata": {},
   "outputs": [
    {
     "data": {
      "text/plain": [
       "(2.0111501326479795,\n",
       " 1.0000000000000002,\n",
       " -0.8431098799129668,\n",
       " -2.535376571185199,\n",
       " 0.3779947089576784,\n",
       " 1.0000000000000002,\n",
       " -0.17362295284575865,\n",
       " -0.0028676)"
      ]
     },
     "execution_count": 33,
     "metadata": {},
     "output_type": "execute_result"
    }
   ],
   "source": [
    "(\n",
    "    np.sqrt(np.max(np.diag(cov_unfolded))),\n",
    "    np.max(cor_unfolded),\n",
    "    np.min(cor_unfolded),\n",
    "    np.min(cov_unfolded),\n",
    "    np.sqrt(np.max(np.diag(cov_pre_regularised))),\n",
    "    np.max(cor_pre_regularised),\n",
    "    np.min(cor_pre_regularised),\n",
    "    np.min(cov_pre_regularised),\n",
    ")"
   ]
  },
  {
   "cell_type": "code",
   "execution_count": 35,
   "metadata": {},
   "outputs": [
    {
     "data": {
      "text/plain": [
       "<matplotlib.colorbar.Colorbar at 0x7fbf454edfd0>"
      ]
     },
     "execution_count": 35,
     "metadata": {},
     "output_type": "execute_result"
    },
    {
     "data": {
      "image/png": "[encoded data removed]",
      "text/plain": [
       "<Figure size 288x288 with 2 Axes>"
      ]
     },
     "metadata": {
      "needs_background": "light"
     },
     "output_type": "display_data"
    }
   ],
   "source": [
    "plt.matshow(cor_unfolded, cmap=\"coolwarm\", vmin=-1, vmax=1)\n",
    "plt.colorbar()"
   ]
  },
  {
   "cell_type": "code",
   "execution_count": 34,
   "metadata": {},
   "outputs": [
    {
     "data": {
      "text/plain": [
       "<matplotlib.colorbar.Colorbar at 0x7fbf47dcb250>"
      ]
     },
     "execution_count": 34,
     "metadata": {},
     "output_type": "execute_result"
    },
    {
     "data": {
      "image/png": "[encoded data removed]",
      "text/plain": [
       "<Figure size 288x288 with 2 Axes>"
      ]
     },
     "metadata": {
      "needs_background": "light"
     },
     "output_type": "display_data"
    }
   ],
   "source": [
    "plt.matshow(cor_pre_regularised, cmap=\"coolwarm\", vmin=-1, vmax=1)\n",
    "plt.colorbar()"
   ]
  },
  {
   "cell_type": "code",
   "execution_count": 39,
   "metadata": {},
   "outputs": [
    {
     "data": {
      "text/plain": [
       "<matplotlib.colorbar.Colorbar at 0x7fbf4563b370>"
      ]
     },
     "execution_count": 39,
     "metadata": {},
     "output_type": "execute_result"
    },
    {
     "data": {
      "image/png": "[encoded data removed]",
      "text/plain": [
       "<Figure size 288x288 with 2 Axes>"
      ]
     },
     "metadata": {
      "needs_background": "light"
     },
     "output_type": "display_data"
    }
   ],
   "source": [
    "mv = np.max(np.abs(pre_A))\n",
    "plt.matshow(pre_A, cmap=\"coolwarm\", vmin=-mv, vmax=mv)\n",
    "plt.colorbar()"
   ]
  },
  {
   "cell_type": "code",
   "execution_count": 47,
   "metadata": {},
   "outputs": [
    {
     "data": {
      "text/plain": [
       "Text(0, 0.5, '$\\\\sigma(E_\\\\nu)$ / [$10^{-38}$cm$^2$ / nucleon]')"
      ]
     },
     "execution_count": 47,
     "metadata": {},
     "output_type": "execute_result"
    },
    {
     "data": {
      "image/png": "[encoded data removed]",
      "text/plain": [
       "<Figure size 432x288 with 1 Axes>"
      ]
     },
     "metadata": {
      "needs_background": "light"
     },
     "output_type": "display_data"
    }
   ],
   "source": [
    "x = (bins[:-1] + bins[1:]) / 2\n",
    "xerr = (bins[1:] - bins[:-1]) / 2\n",
    "\n",
    "y = unfolded_h[0]\n",
    "yerr = np.sqrt(np.diag(cov_unfolded))\n",
    "plt.errorbar(\n",
    "    x,\n",
    "    y,\n",
    "    yerr=yerr,\n",
    "    xerr=xerr,\n",
    "    label=\"unregularised\",\n",
    "    linewidth=2,\n",
    "    linestyle=\"\",\n",
    "    capsize=4,\n",
    ")\n",
    "\n",
    "y = pre_regularised_h[0]\n",
    "yerr = np.sqrt(np.diag(cov_pre_regularised))\n",
    "plt.errorbar(\n",
    "    x,\n",
    "    y,\n",
    "    yerr=yerr,\n",
    "    xerr=xerr,\n",
    "    label=\"pre-regularised\",\n",
    "    linewidth=2,\n",
    "    linestyle=\"\",\n",
    "    capsize=4,\n",
    ")\n",
    "plt.legend()\n",
    "plt.xlabel(r\"$E_\\nu$\")\n",
    "plt.ylabel(r\"$\\sigma(E_\\nu)$ / [$10^{-38}$cm$^2$ / nucleon]\")"
   ]
  },
  {
   "cell_type": "code",
   "execution_count": 45,
   "metadata": {},
   "outputs": [
    {
     "name": "stdout",
     "output_type": "stream",
     "text": [
      "0.06844036259260178 2.1840571845738292\n"
     ]
    },
    {
     "data": {
      "text/plain": [
       "array([-0.12001037,  0.08830536,  0.05974093,  0.04315437,  0.01010331,\n",
       "        0.00569193,  0.01894247,  0.00616511, -0.01344085, -0.03021191])"
      ]
     },
     "execution_count": 45,
     "metadata": {},
     "output_type": "execute_result"
    },
    {
     "data": {
      "image/png": "[encoded data removed]",
      "text/plain": [
       "<Figure size 432x288 with 1 Axes>"
      ]
     },
     "metadata": {
      "needs_background": "light"
     },
     "output_type": "display_data"
    }
   ],
   "source": [
    "utils.model_ratio_plot(\n",
    "    pre_regularised,\n",
    "    pre_regularised,\n",
    "    cov_pre_regularised,\n",
    "    pre_A,\n",
    "    bins=bins,\n",
    "    data_label=\"regularised data\",\n",
    ")\n",
    "#plt.xlabel(r\"$\\delta p_T$ / [GeV/c]\")\n",
    "#plt.ylabel(\n",
    "#    r\"$\\frac{\\mathrm{d}\\sigma}{\\mathrm{d}\\delta p_T}\\ /\\ \\frac{\\mathrm{d}\\sigma_\\mathrm{nominal}}{\\mathrm{d}\\delta p_T}$\"\n",
    "#)"
   ]
  },
  {
   "cell_type": "code",
   "execution_count": null,
   "metadata": {},
   "outputs": [],
   "source": []
  }
 ],
 "metadata": {
  "kernelspec": {
   "display_name": "Python 3 (ipykernel)",
   "language": "python",
   "name": "python3"
  },
  "language_info": {
   "codemirror_mode": {
    "name": "ipython",
    "version": 3
   },
   "file_extension": ".py",
   "mimetype": "text/x-python",
   "name": "python",
   "nbconvert_exporter": "python",
   "pygments_lexer": "ipython3",
   "version": "3.8.10"
  }
 },
 "nbformat": 4,
 "nbformat_minor": 4
}
